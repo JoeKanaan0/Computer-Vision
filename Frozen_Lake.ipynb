{
  "cells": [
    {
      "cell_type": "code",
      "execution_count": null,
      "metadata": {
        "id": "B4Dj6P1CdhQy"
      },
      "outputs": [],
      "source": [
        "import numpy as np\n",
        "import gym\n",
        "import random \n",
        "import time\n",
        "from IPython.display import clear_output"
      ]
    },
    {
      "cell_type": "code",
      "execution_count": null,
      "metadata": {
        "id": "uvWeFIGodsIV"
      },
      "outputs": [],
      "source": [
        "env = gym.make(\"FrozenLake-v1\")"
      ]
    },
    {
      "cell_type": "code",
      "execution_count": null,
      "metadata": {
        "colab": {
          "base_uri": "https://localhost:8080/"
        },
        "id": "qSpp_ihUdxWW",
        "outputId": "231761d3-7fc1-4e59-8b48-65c31d0c2ccb"
      },
      "outputs": [
        {
          "name": "stdout",
          "output_type": "stream",
          "text": [
            "[[0. 0. 0. 0.]\n",
            " [0. 0. 0. 0.]\n",
            " [0. 0. 0. 0.]\n",
            " [0. 0. 0. 0.]\n",
            " [0. 0. 0. 0.]\n",
            " [0. 0. 0. 0.]\n",
            " [0. 0. 0. 0.]\n",
            " [0. 0. 0. 0.]\n",
            " [0. 0. 0. 0.]\n",
            " [0. 0. 0. 0.]\n",
            " [0. 0. 0. 0.]\n",
            " [0. 0. 0. 0.]\n",
            " [0. 0. 0. 0.]\n",
            " [0. 0. 0. 0.]\n",
            " [0. 0. 0. 0.]\n",
            " [0. 0. 0. 0.]]\n",
            "State space size: 16\n",
            "Action space size: 4\n",
            "Shape of the table (16, 4)\n"
          ]
        }
      ],
      "source": [
        "action_space_size = env.action_space.n\n",
        "state_space_size = env.observation_space.n\n",
        "\n",
        "q_table = np.zeros((state_space_size, action_space_size))\n",
        "print(q_table)\n",
        "print(f\"State space size: {state_space_size}\\nAction space size: {action_space_size}\")\n",
        "print(f\"Shape of the table {q_table.shape}\")"
      ]
    },
    {
      "cell_type": "code",
      "execution_count": null,
      "metadata": {
        "id": "VU-KouibeHw3"
      },
      "outputs": [],
      "source": [
        "# The number of episodes that the agent will go through\n",
        "num_episodes = 10000\n",
        "# The maximum number of steps that the agent can do. If 100 is reached the episode ends.\n",
        "max_steps_per_episode = 100\n",
        "\n",
        "# The learning rate determines how much we care about previous information. If\n",
        "# the learning rate is closer to 1 then we discard previous info, if closer to\n",
        "# 0 then previous info reeally matters for the next action.\n",
        "learning_rate = 0.1\n",
        "# The discount rate also works the same as the learning_rate. But the difference\n",
        "# is that it cares about action-state pairs from the future. We use it in case\n",
        "# there is a case of continuity (Infinite number of episodes).\n",
        "discount_rate = 0.99\n",
        "\n",
        "# The starting exploration rate. 1 means that for the first episode the chance\n",
        "# of exploration (aka random moves) is 100%.\n",
        "exploration_rate = 1\n",
        "# The maximum value that the exploration rate can go up to.\n",
        "max_exploration_rate = 1\n",
        "# The minimum value that the exploration rate can go up to.\n",
        "min_exploration_rate = 0.01\n",
        "# Decrements the exploration_rate by 0.001 every episode.\n",
        "exploration_decay_rate = 0.001"
      ]
    },
    {
      "cell_type": "code",
      "execution_count": null,
      "metadata": {
        "colab": {
          "base_uri": "https://localhost:8080/"
        },
        "id": "HQj7i7lKexeu",
        "outputId": "2820d48c-5aac-40c8-cb12-6247327c0e04"
      },
      "outputs": [
        {
          "name": "stdout",
          "output_type": "stream",
          "text": [
            "*******Average reward per thousand episodes***********\n",
            "\n",
            "1000 :  0.05300000000000004\n",
            "2000 :  0.18700000000000014\n",
            "3000 :  0.4130000000000003\n",
            "4000 :  0.5470000000000004\n",
            "5000 :  0.6450000000000005\n",
            "6000 :  0.6410000000000005\n",
            "7000 :  0.6720000000000005\n",
            "8000 :  0.6810000000000005\n",
            "9000 :  0.7060000000000005\n",
            "10000 :  0.6670000000000005\n",
            "\n",
            "\n",
            "*****Q-table*****\n",
            "\n",
            "[[0.5302898  0.51087363 0.50506937 0.50467419]\n",
            " [0.33095317 0.29963077 0.35320914 0.49023414]\n",
            " [0.38732826 0.35298849 0.34336597 0.46670015]\n",
            " [0.2476995  0.19114293 0.25001845 0.45680451]\n",
            " [0.54952234 0.34711968 0.36323585 0.2975415 ]\n",
            " [0.         0.         0.         0.        ]\n",
            " [0.17410256 0.16013219 0.36341445 0.12992126]\n",
            " [0.         0.         0.         0.        ]\n",
            " [0.37161261 0.30561817 0.38343978 0.57755412]\n",
            " [0.41572093 0.61892804 0.45513621 0.48492452]\n",
            " [0.49605596 0.36532734 0.43473865 0.33323044]\n",
            " [0.         0.         0.         0.        ]\n",
            " [0.         0.         0.         0.        ]\n",
            " [0.33259949 0.52992177 0.7260671  0.29995389]\n",
            " [0.7406154  0.89683746 0.77888524 0.76524381]\n",
            " [0.         0.         0.         0.        ]]\n"
          ]
        }
      ],
      "source": [
        "# Track the rewards that we are getting form every single episode\n",
        "rewards_all_episodes = []\n",
        "\n",
        "# Q-Learning Algorithm\n",
        "for episode in range(num_episodes):\n",
        "  state = env.reset()\n",
        "\n",
        "  done = False\n",
        "  rewards_current_episode = 0\n",
        "\n",
        "  for step in range(max_steps_per_episode):\n",
        "\n",
        "    # Exploration-exploitation trade-off\n",
        "    exploration_rate_threshold = random.uniform(0, 1)\n",
        "    if exploration_rate_threshold > exploration_rate:\n",
        "      action = np.argmax(q_table[state, :])\n",
        "    else:\n",
        "      action = env.action_space.sample()\n",
        "\n",
        "    new_state, reward, done, info = env.step(action)\n",
        "\n",
        "    # Update Q-table for Q(s, a)\n",
        "    q_table[state, action] = q_table[state, action] * (1 - learning_rate) + \\\n",
        "        learning_rate * (reward + discount_rate * np.max(q_table[new_state, :]))\n",
        "\n",
        "    state = new_state\n",
        "    rewards_current_episode += reward\n",
        "\n",
        "    if done:\n",
        "      break\n",
        "    \n",
        "  # Exploration rate decay\n",
        "  exploration_rate = min_exploration_rate + \\\n",
        "      (max_exploration_rate - min_exploration_rate) * np.exp(-exploration_decay_rate * episode)\n",
        "\n",
        "  rewards_all_episodes.append(rewards_current_episode)\n",
        "\n",
        "\n",
        "rewards_per_thousand_episodes = np.split(np.array(rewards_all_episodes), num_episodes / 1000)\n",
        "count = 1000\n",
        "print(\"*******Average reward per thousand episodes***********\\n\")\n",
        "for r in rewards_per_thousand_episodes:\n",
        "  print(count, \": \", str(sum(r/1000)))\n",
        "  count += 1000\n",
        "\n",
        "# Print updated Q-table\n",
        "print(\"\\n\\n*****Q-table*****\\n\")\n",
        "print(q_table)"
      ]
    },
    {
      "cell_type": "code",
      "execution_count": null,
      "metadata": {
        "colab": {
          "base_uri": "https://localhost:8080/"
        },
        "id": "DKz1XCFAlB05",
        "outputId": "3a206b1e-412b-4ba9-dbaa-79b9237b2045"
      },
      "outputs": [
        {
          "name": "stdout",
          "output_type": "stream",
          "text": [
            "  (Down)\n",
            "SFFF\n",
            "FHFH\n",
            "FFFH\n",
            "HFF\u001b[41mG\u001b[0m\n",
            "*****You reached the goal!*****\n"
          ]
        }
      ],
      "source": [
        "# Test the agent\n",
        "\n",
        "for episode in range(3):\n",
        "  state = env.reset()\n",
        "  done = False\n",
        "  print(\"********EPISODE\", episode + 1, \"************\\n\\n\\n\\n\")\n",
        "  time.sleep(1)\n",
        "\n",
        "  for step in range(max_steps_per_episode):\n",
        "    clear_output(wait = True)\n",
        "    env.render()\n",
        "    time.sleep(0.3)\n",
        "\n",
        "    action = np.argmax(q_table[state, :])\n",
        "    new_state, reward, done, info = env.step(action)\n",
        "\n",
        "    if done:\n",
        "      clear_output(wait = True)\n",
        "      env.render()\n",
        "      if reward == 1:\n",
        "        print(\"*****You reached the goal!*****\")\n",
        "        time.sleep(3)\n",
        "\n",
        "      else:\n",
        "        print(\"*******You fell into a hole******\")\n",
        "        time.sleep(3)\n",
        "\n",
        "      clear_output(wait = True)\n",
        "      break\n",
        "\n",
        "    state = new_state\n",
        "\n",
        "env.close()"
      ]
    },
    {
      "cell_type": "code",
      "execution_count": null,
      "metadata": {
        "id": "uOqhik7cEpkl"
      },
      "outputs": [],
      "source": []
    }
  ],
  "metadata": {
    "colab": {
      "provenance": []
    },
    "kernelspec": {
      "display_name": "Python 3",
      "name": "python3"
    },
    "language_info": {
      "name": "python"
    }
  },
  "nbformat": 4,
  "nbformat_minor": 0
}
